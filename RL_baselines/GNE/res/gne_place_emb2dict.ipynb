{
 "cells": [
  {
   "cell_type": "code",
   "execution_count": 42,
   "id": "96ce9028",
   "metadata": {},
   "outputs": [],
   "source": [
    "import pickle\n",
    "import numpy as np"
   ]
  },
  {
   "cell_type": "code",
   "execution_count": 43,
   "id": "e0eac789",
   "metadata": {},
   "outputs": [],
   "source": [
    "with open('new_train_res', 'r') as file:\n",
    "    lines = file.readlines()\n",
    "    file.close()"
   ]
  },
  {
   "cell_type": "code",
   "execution_count": 45,
   "id": "4acffb42",
   "metadata": {},
   "outputs": [],
   "source": [
    "res = eval(lines[0])"
   ]
  },
  {
   "cell_type": "code",
   "execution_count": 47,
   "id": "a001f714",
   "metadata": {},
   "outputs": [],
   "source": [
    "res = np.array(res['coordinates'])"
   ]
  },
  {
   "cell_type": "code",
   "execution_count": 52,
   "id": "c68e1799",
   "metadata": {},
   "outputs": [],
   "source": [
    "with open('../../../data/pengpai/labeled_data/idx_address_network_no_edgedata/nodeidxmaps.pickle','rb') as file:\n",
    "    addr2idxmaps = pickle.load(file)\n",
    "    file.close()\n",
    "addr2idx = addr2idxmaps['poi']\n",
    "idx2addr = {val:key for key,val in addr2idx.items()}\n",
    "addr2emb = {}\n",
    "for i, line in enumerate(res[:10241]):\n",
    "\n",
    "    emb = np.array(line).astype(np.float32)\n",
    "    addr2emb[idx2addr[i]]=emb"
   ]
  },
  {
   "cell_type": "code",
   "execution_count": 53,
   "id": "5e887708",
   "metadata": {},
   "outputs": [],
   "source": [
    "with open('../../../represent_learning/poi_embeddings/gne_poi_embedding.pickle','wb') as file:\n",
    "    pickle.dump(file = file,obj = addr2emb)\n",
    "    file.close()"
   ]
  }
 ],
 "metadata": {
  "kernelspec": {
   "display_name": "Python 3 (ipykernel)",
   "language": "python",
   "name": "python3"
  },
  "language_info": {
   "codemirror_mode": {
    "name": "ipython",
    "version": 3
   },
   "file_extension": ".py",
   "mimetype": "text/x-python",
   "name": "python",
   "nbconvert_exporter": "python",
   "pygments_lexer": "ipython3",
   "version": "3.10.0"
  }
 },
 "nbformat": 4,
 "nbformat_minor": 5
}