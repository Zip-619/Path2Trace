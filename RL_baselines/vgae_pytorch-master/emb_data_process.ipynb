{
 "cells": [
  {
   "cell_type": "code",
   "execution_count": 5,
   "id": "5df26f30",
   "metadata": {},
   "outputs": [],
   "source": [
    "import pickle\n",
    "import numpy as np\n",
    "import scipy as sc\n",
    "import networkx as nx"
   ]
  },
  {
   "cell_type": "code",
   "execution_count": 6,
   "id": "de885baa",
   "metadata": {},
   "outputs": [],
   "source": [
    "rl_name = 'vgae'\n",
    "lines = np.loadtxt('{}_emb.txt'.format(rl_name))\n",
    "with open('../../data/pengpai/labeled_data/idx_address_network_no_edgedata/nodeidxmaps.pickle','rb') as file:\n",
    "    addr2idxmaps = pickle.load(file)\n",
    "    file.close()\n",
    "addr2idx = addr2idxmaps['poi']\n",
    "idx2addr = {val:key for key,val in addr2idx.items()}\n",
    "addr2emb = {}\n",
    "for i, line in enumerate(lines[:10241]):\n",
    "\n",
    "    emb = np.array(line).astype(np.float32)\n",
    "    addr2emb[idx2addr[i]]=emb"
   ]
  },
  {
   "cell_type": "code",
   "execution_count": 7,
   "id": "e7b5973b",
   "metadata": {
    "pycharm": {
     "name": "#%%\n"
    }
   },
   "outputs": [],
   "source": [
    "with open('../../represent_learning/poi_embeddings/{}_poi_embedding.pickle'.format(rl_name),'wb') as file:\n",
    "    pickle.dump(file=file,obj=addr2emb)\n",
    "    file.close()"
   ]
  }
 ],
 "metadata": {
  "kernelspec": {
   "display_name": "Python 3 (ipykernel)",
   "language": "python",
   "name": "python3"
  },
  "language_info": {
   "codemirror_mode": {
    "name": "ipython",
    "version": 3
   },
   "file_extension": ".py",
   "mimetype": "text/x-python",
   "name": "python",
   "nbconvert_exporter": "python",
   "pygments_lexer": "ipython3",
   "version": "3.7.10"
  }
 },
 "nbformat": 4,
 "nbformat_minor": 5
}