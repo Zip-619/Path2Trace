{
 "cells": [
  {
   "cell_type": "code",
   "execution_count": 29,
   "id": "a7f48e81",
   "metadata": {},
   "outputs": [],
   "source": [
    "import pickle\n",
    "import numpy as np\n",
    "emb_path = 'vectors.txt'\n",
    "with open('../../data/pengpai/labeled_data/idx_address_network_no_edgedata/nodeidxmaps.pickle','rb') as file:\n",
    "    addr2idxmaps = pickle.load(file)\n",
    "    file.close()\n",
    "addr2idx = addr2idxmaps['poi']\n",
    "idx2addr = {val:key for key,val in addr2idx.items()}\n",
    "\n",
    "f = open(emb_path,'r')\n",
    "lines = f.readlines()\n",
    "\n",
    "addr2emb = {}\n",
    "for line in lines:\n",
    "    line = line.split()\n",
    "#     break\n",
    "    poi_idx = int(line[0])\n",
    "    emb = np.array(line[1:]).astype(np.float32)\n",
    "    addr2emb[idx2addr[poi_idx]]=emb"
   ]
  },
  {
   "cell_type": "code",
   "execution_count": 30,
   "id": "45d7af51",
   "metadata": {},
   "outputs": [
    {
     "data": {
      "text/plain": [
       "['10225',\n",
       " '3.722919e-01',\n",
       " '-3.919177e-01',\n",
       " '8.941067e-01',\n",
       " '-2.485141e-01',\n",
       " '2.411114e-01',\n",
       " '5.120472e-01',\n",
       " '2.358171e-01',\n",
       " '1.803901e-02',\n",
       " '-1.623701e-01',\n",
       " '-9.603053e-01',\n",
       " '4.457605e-01',\n",
       " '2.260537e-01',\n",
       " '9.919416e-01',\n",
       " '-6.724053e-01',\n",
       " '-4.262756e-01',\n",
       " '9.641829e-01',\n",
       " '6.887330e-01',\n",
       " '-6.098815e-01',\n",
       " '-8.736027e-01',\n",
       " '4.756403e-01',\n",
       " '7.182292e-02',\n",
       " '3.137126e-01',\n",
       " '5.527263e-01',\n",
       " '4.545903e-01',\n",
       " '4.863982e-01',\n",
       " '-4.437997e-02',\n",
       " '7.184028e-01',\n",
       " '8.764112e-02',\n",
       " '5.102318e-01',\n",
       " '-5.021568e-01',\n",
       " '-2.947118e-01',\n",
       " '-1.174763e-01',\n",
       " '1.059255e-01',\n",
       " '-4.006052e-01',\n",
       " '6.340096e-01',\n",
       " '-6.529631e-01',\n",
       " '-8.885579e-01',\n",
       " '-1.301733e-01',\n",
       " '3.650759e-01',\n",
       " '-5.092806e-02',\n",
       " '-9.047867e-02',\n",
       " '-1.891636e-01',\n",
       " '-8.248744e-01',\n",
       " '-9.853705e-02',\n",
       " '1.384310e-01',\n",
       " '-2.511499e-01',\n",
       " '-1.343541e-01',\n",
       " '-1.728359e-01',\n",
       " '1.389685e-01',\n",
       " '-7.956808e-03',\n",
       " '-6.971956e-01',\n",
       " '-7.892085e-01',\n",
       " '-6.942442e-01',\n",
       " '8.555307e-01',\n",
       " '6.653818e-01',\n",
       " '7.921539e-01',\n",
       " '-1.888492e-01',\n",
       " '3.837846e-01',\n",
       " '-1.202049e-01',\n",
       " '-6.786175e-01',\n",
       " '8.816278e-01',\n",
       " '5.850832e-01',\n",
       " '2.039062e-01',\n",
       " '-1.244671e-02',\n",
       " '-8.155219e-01',\n",
       " '-1.620842e-01',\n",
       " '3.345902e-01',\n",
       " '-7.040799e-01',\n",
       " '7.077425e-01',\n",
       " '-3.003339e-01',\n",
       " '2.449921e-01',\n",
       " '-3.827362e-01',\n",
       " '5.105024e-01',\n",
       " '4.201177e-01',\n",
       " '5.187268e-01',\n",
       " '-3.510665e-01',\n",
       " '-8.310322e-01',\n",
       " '-6.156273e-01',\n",
       " '4.760976e-01',\n",
       " '3.079363e-01',\n",
       " '3.764159e-01',\n",
       " '7.789020e-01',\n",
       " '5.187278e-01',\n",
       " '6.821716e-01',\n",
       " '6.344327e-01',\n",
       " '1.841096e-01',\n",
       " '4.743256e-01',\n",
       " '-5.544166e-01',\n",
       " '-4.321058e-01',\n",
       " '-6.458794e-01',\n",
       " '-2.330340e-01',\n",
       " '-5.504780e-01',\n",
       " '9.392038e-01',\n",
       " '9.708722e-01',\n",
       " '4.370753e-01',\n",
       " '-8.763181e-01',\n",
       " '-1.912120e-01',\n",
       " '-2.283346e-01',\n",
       " '-5.803980e-01',\n",
       " '-4.834695e-01',\n",
       " '4.713315e-01',\n",
       " '6.645941e-01',\n",
       " '1.337943e-01',\n",
       " '-1.816607e-02',\n",
       " '8.471175e-02',\n",
       " '-3.474789e-01',\n",
       " '6.307674e-01',\n",
       " '2.536795e-01',\n",
       " '3.689372e-02',\n",
       " '1.068650e-01',\n",
       " '-4.383842e-01',\n",
       " '-5.866904e-01',\n",
       " '-1.142331e-01',\n",
       " '-9.196564e-01',\n",
       " '-9.045188e-01',\n",
       " '-4.798004e-01',\n",
       " '2.644531e-01',\n",
       " '5.698067e-01',\n",
       " '-3.421695e-02',\n",
       " '8.323473e-01',\n",
       " '9.239274e-01',\n",
       " '7.327490e-01',\n",
       " '-7.181307e-01',\n",
       " '8.631312e-01',\n",
       " '7.036212e-01',\n",
       " '7.189445e-01',\n",
       " '9.868131e-01',\n",
       " '-4.875909e-01']"
      ]
     },
     "execution_count": 30,
     "metadata": {},
     "output_type": "execute_result"
    }
   ],
   "source": [
    "line"
   ]
  },
  {
   "cell_type": "code",
   "execution_count": 31,
   "id": "2ce218c9",
   "metadata": {},
   "outputs": [
    {
     "data": {
      "text/plain": [
       "128"
      ]
     },
     "execution_count": 31,
     "metadata": {},
     "output_type": "execute_result"
    }
   ],
   "source": [
    "len(line[1:])"
   ]
  },
  {
   "cell_type": "code",
   "execution_count": 32,
   "id": "a17d0f48",
   "metadata": {},
   "outputs": [
    {
     "data": {
      "text/plain": [
       "128"
      ]
     },
     "execution_count": 32,
     "metadata": {},
     "output_type": "execute_result"
    }
   ],
   "source": [
    "len(addr2emb['广东省广州市荔湾区华林街福安街'])"
   ]
  },
  {
   "cell_type": "code",
   "execution_count": 33,
   "id": "4ec28314",
   "metadata": {},
   "outputs": [],
   "source": [
    "with open('../../represent_learning/poi_embeddings/louvainne_poi_embedding.pickle','wb') as file:\n",
    "    pickle.dump(file=file,obj = addr2emb)\n",
    "    file.close()"
   ]
  },
  {
   "cell_type": "code",
   "execution_count": 8,
   "id": "d5bdc397",
   "metadata": {},
   "outputs": [
    {
     "data": {
      "text/plain": [
       "10241"
      ]
     },
     "execution_count": 8,
     "metadata": {},
     "output_type": "execute_result"
    }
   ],
   "source": [
    "len(addr2emb)"
   ]
  }
 ],
 "metadata": {
  "kernelspec": {
   "display_name": "Python 3 (ipykernel)",
   "language": "python",
   "name": "python3"
  },
  "language_info": {
   "codemirror_mode": {
    "name": "ipython",
    "version": 3
   },
   "file_extension": ".py",
   "mimetype": "text/x-python",
   "name": "python",
   "nbconvert_exporter": "python",
   "pygments_lexer": "ipython3",
   "version": "3.7.10"
  }
 },
 "nbformat": 4,
 "nbformat_minor": 5
}